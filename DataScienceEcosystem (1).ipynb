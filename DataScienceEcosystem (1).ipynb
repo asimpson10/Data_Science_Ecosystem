{
 "cells": [
  {
   "cell_type": "markdown",
   "id": "a197f95e-395a-4de6-9ef4-e75e48bb2808",
   "metadata": {},
   "source": [
    "# Data Science Tools and Ecosystem"
   ]
  },
  {
   "cell_type": "markdown",
   "id": "3772044c-522c-4da6-8311-5cf918aefae7",
   "metadata": {},
   "source": [
    "In this notebook, Data Science Tools and Ecosystem are summarized."
   ]
  },
  {
   "cell_type": "markdown",
   "id": "fed9c457-ee1d-42cf-92b9-bf89706a046f",
   "metadata": {},
   "source": [
    "**Objectives:**\n",
    "- List popular data science languages\n",
    "- List popular data science libraries\n",
    "- List popular data science tools\n",
    "- Learn some extra abilities in Jupyter Notebooks"
   ]
  },
  {
   "cell_type": "markdown",
   "id": "aee46c93-fc6d-4f7b-90c4-349e61a0060f",
   "metadata": {},
   "source": [
    "Some of the popular languages that Data Scientists use are:\n",
    "1. Python\n",
    "2. R\n",
    "3. Julia\n",
    "4. Scala\n",
    "5. SQL"
   ]
  },
  {
   "cell_type": "markdown",
   "id": "97c12d01-fc2a-4258-97fa-d10070388509",
   "metadata": {},
   "source": [
    "Some of the commonly used libraries used by Data Scientists include:\n",
    "1. TensorFlow\n",
    "2. Keras\n",
    "3. SciKit-Learn\n",
    "4. PyTorch\n",
    "5. Dplyr\n",
    "6. Ggplot"
   ]
  },
  {
   "cell_type": "markdown",
   "id": "4ad5d87d-ba34-4a30-b28a-eb62034120e2",
   "metadata": {},
   "source": [
    "Data Science Tools |\n",
    "--- |\n",
    "Weka |\n",
    "TensorFlow |\n",
    "KNIME |"
   ]
  },
  {
   "cell_type": "markdown",
   "id": "a70b1ff4-7774-4822-a6b8-f46dcc749fe9",
   "metadata": {},
   "source": [
    "### Below are a few examples of evaluating arithmetic expressions in Python"
   ]
  },
  {
   "cell_type": "code",
   "execution_count": 2,
   "id": "2d4816a4-899f-4a5d-a905-49a2249e218e",
   "metadata": {},
   "outputs": [
    {
     "data": {
      "text/plain": [
       "17"
      ]
     },
     "execution_count": 2,
     "metadata": {},
     "output_type": "execute_result"
    }
   ],
   "source": [
    "(3*4)+5\n",
    "#This a simple arithmetic expression to mutiply then add integers"
   ]
  },
  {
   "cell_type": "code",
   "execution_count": 3,
   "id": "79c2fb83-6181-4d1a-b278-8ef8214a63ca",
   "metadata": {},
   "outputs": [
    {
     "name": "stdout",
     "output_type": "stream",
     "text": [
      "200 minutes = 3.33 hours\n",
      "or\n",
      "3 hours and 20 minutes\n"
     ]
    }
   ],
   "source": [
    "#This will convert 200 minutes to hours by diving by 60\n",
    "mins = 200\n",
    "hours = mins/60\n",
    "whole_hours = int(mins//60) \n",
    "remainder = mins%60\n",
    "print(mins, \"minutes =\", \"{:.2f}\".format(hours), \"hours\")\n",
    "print(\"or\")\n",
    "print(whole_hours, \"hours and\", remainder, \"minutes\")"
   ]
  },
  {
   "cell_type": "markdown",
   "id": "e0362598-d1f9-4a5a-b77e-87b9e16dd345",
   "metadata": {},
   "source": [
    "## Author\n",
    "Aaron Simpson"
   ]
  }
 ],
 "metadata": {
  "kernelspec": {
   "display_name": "Python",
   "language": "python",
   "name": "conda-env-python-py"
  },
  "language_info": {
   "codemirror_mode": {
    "name": "ipython",
    "version": 3
   },
   "file_extension": ".py",
   "mimetype": "text/x-python",
   "name": "python",
   "nbconvert_exporter": "python",
   "pygments_lexer": "ipython3",
   "version": "3.7.12"
  }
 },
 "nbformat": 4,
 "nbformat_minor": 5
}
